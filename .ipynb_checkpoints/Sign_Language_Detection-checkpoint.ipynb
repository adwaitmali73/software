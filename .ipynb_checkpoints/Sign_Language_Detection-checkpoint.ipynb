{
 "cells": [
  {
   "cell_type": "code",
   "execution_count": null,
   "id": "7839a6f5",
   "metadata": {},
   "outputs": [],
   "source": [
    "import cv2\n",
    "import numpy as np\n",
    "import os\n",
    "from matplotlib import pyplot as plt\n",
    "import time\n",
    "import mediapipe as mp\n"
   ]
  },
  {
   "cell_type": "markdown",
   "id": "770f7bb5",
   "metadata": {},
   "source": [
    "Keypoints Using MP Holistics"
   ]
  },
  {
   "cell_type": "code",
   "execution_count": null,
   "id": "3e8c1164",
   "metadata": {},
   "outputs": [],
   "source": [
    "mp_holistic = mp.solutions.holistic  # HOLISTICS MODEL\n",
    "mp_drawing = mp.solutions.drawing_utils # DRAWING UTILITIES"
   ]
  },
  {
   "cell_type": "code",
   "execution_count": null,
   "id": "aa7f9f22",
   "metadata": {},
   "outputs": [],
   "source": [
    "def mediapipe_detection(image, model):\n",
    "    image = cv2.cvtColor(image, cv2.COLOR_BGR2RGB) # COLOR CONVERSION BGR to RGB\n",
    "    image.flags.writeable = False  # Image is no longer writeable\n",
    "    results = model.process(image)  # Make Prediction\n",
    "    image.flags.writeable = True    # Image is now writeable\n",
    "    image = cv2.cvtColor(image, cv2.COLOR_RGB2BGR) # COLOR CONVERSION RGB to BGR\n",
    "    return image, results"
   ]
  },
  {
   "cell_type": "code",
   "execution_count": 51,
   "id": "0e7bb050",
   "metadata": {},
   "outputs": [],
   "source": [
    "def draw_landmarks(image, results):\n",
    "    mp_drawing.draw_landmarks(image, results.face_landmarks, mp_holistic.FACEMESH_TESSELATION) # Face Connections\n",
    "    mp_drawing.draw_landmarks(image, results.pose_landmarks, mp_holistic.POSE_CONNECTIONS)  # Pose Connections\n",
    "    mp_drawing.draw_landmarks(image, results.left_hand_landmarks, mp_holistic.HAND_CONNECTIONS) # Left Hand Connections\n",
    "    mp_drawing.draw_landmarks(image, results.right_hand_landmarks, mp_holistic.HAND_CONNECTIONS) # Right Hand Connections\n",
    "    "
   ]
  },
  {
   "cell_type": "code",
   "execution_count": 66,
   "id": "cb478039",
   "metadata": {},
   "outputs": [],
   "source": [
    "def draw_styled_landmarks(image, results):\n",
    "    # Face Connections\n",
    "    mp_drawing.draw_landmarks(image, results.face_landmarks, mp_holistic.FACEMESH_TESSELATION,\n",
    "                             mp_drawing.DrawingSpec(color =(80,110,10), thickness = 1, circle_radius = 1), # Dot Color\n",
    "                             mp_drawing.DrawingSpec(color =(80,256,121), thickness = 1, circle_radius = 1) # Line Color\n",
    "                             )\n",
    "                              \n",
    "   # Pose Connections\n",
    "    mp_drawing.draw_landmarks(image, results.pose_landmarks, mp_holistic.POSE_CONNECTIONS,\n",
    "                             mp_drawing.DrawingSpec(color =(80,22,10), thickness = 2, circle_radius = 4), # Dot Color\n",
    "                             mp_drawing.DrawingSpec(color =(80,44,121), thickness =2, circle_radius = 2) # Line Color\n",
    "                             )  \n",
    "    # Left Hand Connections\n",
    "    mp_drawing.draw_landmarks(image, results.left_hand_landmarks, mp_holistic.HAND_CONNECTIONS, \n",
    "                             mp_drawing.DrawingSpec(color =(121,22,76), thickness = 2, circle_radius = 4), # Dot Color\n",
    "                             mp_drawing.DrawingSpec(color =(121,44,250), thickness = 2, circle_radius =2) # Line Color\n",
    "                             ) \n",
    "     # Right Hand Connections\n",
    "    mp_drawing.draw_landmarks(image, results.right_hand_landmarks, mp_holistic.HAND_CONNECTIONS, \n",
    "                             mp_drawing.DrawingSpec(color =(245,117,66), thickness = 2, circle_radius = 4), # Dot Color\n",
    "                             mp_drawing.DrawingSpec(color =(245,66,230), thickness = 2, circle_radius = 2) # Line Color\n",
    "                             ) \n",
    "   \n",
    "    "
   ]
  },
  {
   "cell_type": "code",
   "execution_count": 67,
   "id": "6fc80f6e",
   "metadata": {
    "scrolled": true
   },
   "outputs": [],
   "source": [
    "cap = cv2.VideoCapture(0)\n",
    "# Set mediapipe model\n",
    "\n",
    "with mp_holistic.Holistic(min_detection_confidence=0.5, min_tracking_confidence = 0.5) as holistic:\n",
    "    while cap.isOpened():\n",
    "    \n",
    "        # Read feed\n",
    "        ret, frame = cap.read()\n",
    "    \n",
    "        # Make Detection\n",
    "        image, results = mediapipe_detection(frame, holistic)\n",
    "        #print(results)\n",
    "        \n",
    "        #Draw landmarks\n",
    "        draw_styled_landmarks(image, results)\n",
    "        \n",
    "    \n",
    "        #Show to Screen\n",
    "        cv2.imshow(\"feed\", image)\n",
    "    \n",
    "        # Break the loop\n",
    "        if cv2.waitKey(10) & 0xFF == ord('q'):\n",
    "            break\n",
    "    cap.release()\n",
    "    cv2.destroyAllWindows()"
   ]
  },
  {
   "cell_type": "code",
   "execution_count": 58,
   "id": "109c5f58",
   "metadata": {},
   "outputs": [],
   "source": []
  },
  {
   "cell_type": "markdown",
   "id": "9421a973",
   "metadata": {},
   "source": [
    "3> Extract Keypoints Values"
   ]
  },
  {
   "cell_type": "code",
   "execution_count": null,
   "id": "a6fd8c06",
   "metadata": {},
   "outputs": [],
   "source": []
  }
 ],
 "metadata": {
  "kernelspec": {
   "display_name": "Python 3 (ipykernel)",
   "language": "python",
   "name": "python3"
  },
  "language_info": {
   "codemirror_mode": {
    "name": "ipython",
    "version": 3
   },
   "file_extension": ".py",
   "mimetype": "text/x-python",
   "name": "python",
   "nbconvert_exporter": "python",
   "pygments_lexer": "ipython3",
   "version": "3.9.13"
  }
 },
 "nbformat": 4,
 "nbformat_minor": 5
}
